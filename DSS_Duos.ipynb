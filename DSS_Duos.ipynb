{
 "cells": [
  {
   "cell_type": "markdown",
   "metadata": {},
   "source": [
    "# DSS Duos \n",
    "\n",
    "Algorithm that randomly pairs people up from different committees. Maximum efficiency with occasional repeats. Run biweekly. \n",
    "\n",
    "Schedule: \n",
    "- Start 3/4 Thursday \n",
    "- Run algo every other Monday \n",
    "- Change list of suggestions\n",
    "\n",
    "Prizes: \n",
    "- only top pair gets prize\n",
    "- $10 Amazon gift cards/person\n",
    "\n",
    "Notes: \n",
    "- Screenshot pictures of hangouts \n",
    "- DSS Duos Channel \n",
    "\n",
    "Data: \n",
    "- Spreadsheet to keep track of how many times you hangout "
   ]
  },
  {
   "cell_type": "code",
   "execution_count": 1,
   "metadata": {},
   "outputs": [],
   "source": [
    "import numpy as np\n",
    "import pandas as pd\n",
    "import csv "
   ]
  },
  {
   "cell_type": "markdown",
   "metadata": {},
   "source": [
    "### Useful Information"
   ]
  },
  {
   "cell_type": "code",
   "execution_count": 2,
   "metadata": {
    "scrolled": false
   },
   "outputs": [
    {
     "name": "stdout",
     "output_type": "stream",
     "text": [
      "execs: 9\n",
      "consultants: 19 PMs: 10\n",
      "acadev: 12\n",
      "sg consultants: 8 PMs: 2\n",
      "DSS total: 60\n"
     ]
    }
   ],
   "source": [
    "#member directory\n",
    "execs = [\"Alleana Clark\", \"Varun Mittal\", \"Gayatri Babel\", \"Sabrina Wu\", \n",
    "        \"Arnav Patel\", \"Atharva Mehendale\", \"Rick Zhang\", \"Andi Halim\", \"Charlie D\"]\n",
    "openscout = [\"Alina Trinh\", \"Anita Shen\", \"Sunny Shen\", \"Dhruv Krishnaswamy\", \"Jasmine Wang\", \"Rashmika Veturi\"]\n",
    "\n",
    "seawarden = [\"Advait Marathe\", \"Pooja Eega\", \"Claudea Jennefer\", \"Nicole Park\", \"Alvin Yu\", \"Louis Spencer\", \"Elton Chan\"]\n",
    "whipstitch = [\"Erica Zhu\", \"Henry Cheong\", \"Taylor Lee\", \"Jihee Yoon\", \"Cindy Yang\", \"Naman Patel\"]\n",
    "fansure = [\"Pranav Sukumar\", \"Grace Qiu\", \"Jason Keung\", \"Kate Gwimm\", \"Kanu Grover\"]\n",
    "av = [\"Annie Dai\",\"Aditi Raja\", \"Ann Wang\", \"Noor Hanafi\", \"Aashritha Srirambhatla\"]\n",
    "sg_medic = [\"Steven Chen\", \"Rithic Goli\", \"Ingrid Chien\", \"Spencer Jenkins\", \"Jae Hee Koh\"]\n",
    "sg_mep = [\"Evelyn Lu\", \"Luke Liu\", \"Sydnie Zanone\", \"Labanya Mukhopadhyay\", \"Olivia Qin\"]\n",
    "\n",
    "acadev = [\"Marlon Fu\", \"Wendy Kim\", \"Pranati Modumudi\", \"Jared Keating\", \"Saeed Naeem\", \n",
    "         \"Armine Nersisyan\", \"Siddhant Satapathy\", \"Austin Jeong\", \"Angeline Lee\", \"Tanu Unakal\", \"Michelle Li\",\n",
    "          \"Vaibhav Agrawal\"]\n",
    "\n",
    "#useful variables \n",
    "mapping = {\"execs\": execs, \"openscout\": openscout, \"seawarden\": seawarden, \"whipstitch\": whipstitch, \n",
    "            \"fansure\": fansure, \"av\": av, \"sg_medic\": sg_medic, \"sg_mep\": sg_mep, \"acadev\": acadev}\n",
    "all_names = execs + openscout + seawarden + whipstitch + fansure + av + sg_medic + sg_mep + acadev\n",
    "\n",
    "#size of each committee \n",
    "print(\"execs:\", len(execs))\n",
    "print(\"consultants:\", len(openscout + seawarden + whipstitch + fansure + av)-10, \"PMs:\", 10)\n",
    "print(\"acadev:\", len(acadev))\n",
    "print(\"sg consultants:\", len(sg_medic + sg_mep)-2, \"PMs:\", 2)\n",
    "print(\"DSS total:\", len(all_names))"
   ]
  },
  {
   "cell_type": "markdown",
   "metadata": {},
   "source": [
    "### Matching Algorithm "
   ]
  },
  {
   "cell_type": "code",
   "execution_count": 3,
   "metadata": {},
   "outputs": [],
   "source": [
    "# removes and returns a single pairing from \"mapping\" dictionary \n",
    "def single_pairing(mappings, acadev):  \n",
    "    teams = [t for t in list(mapping.keys()) if len(mapping[t])>0]\n",
    "    pairing, i = {}, 0\n",
    "    while i < 2: \n",
    "        if acadev: #edge case: adjust for acadev\n",
    "            team, acadev = \"acadev\", False\n",
    "        else: \n",
    "            team = np.random.choice(teams) \n",
    "        member = np.random.choice(mappings[team])\n",
    "        pairing[member] = team\n",
    "        if len(teams) > 1: #edge case: repeat team\n",
    "            teams.remove(team)\n",
    "        mappings[team].remove(member)\n",
    "        i = i + 1\n",
    "    return pairing"
   ]
  },
  {
   "cell_type": "code",
   "execution_count": 4,
   "metadata": {},
   "outputs": [],
   "source": [
    "#returns a nested list of all pairings\n",
    "def DSS_Dates():\n",
    "    mappings_copy = mapping.copy()\n",
    "    allnames_copy = all_names.copy()\n",
    "    dss_dates, acadev_count = [], 3\n",
    "    while len(allnames_copy) > 0:\n",
    "        if acadev_count > 0: #edge case: adjust for acadev \n",
    "            pair_dict = single_pairing(mappings_copy, True) \n",
    "            acadev_count = acadev_count - 1\n",
    "        else: \n",
    "            pair_dict = single_pairing(mappings_copy, False) \n",
    "            \n",
    "        pair_list = list(pair_dict.keys()) \n",
    "        dss_dates.append(pair_list) \n",
    "        print(pair_dict)\n",
    "        allnames_copy.remove(pair_list[0])\n",
    "        allnames_copy.remove(pair_list[1])\n",
    "    return dss_dates"
   ]
  },
  {
   "cell_type": "markdown",
   "metadata": {},
   "source": [
    "### Store as CSV "
   ]
  },
  {
   "cell_type": "code",
   "execution_count": 5,
   "metadata": {},
   "outputs": [
    {
     "name": "stdout",
     "output_type": "stream",
     "text": [
      "{'Siddhant Satapathy': 'acadev', 'Ann Wang': 'av'}\n",
      "{'Tanu Unakal': 'acadev', 'Jae Hee Koh': 'sg_medic'}\n",
      "{'Saeed Naeem': 'acadev', 'Varun Mittal': 'execs'}\n",
      "{'Aashritha Srirambhatla': 'av', 'Naman Patel': 'whipstitch'}\n",
      "{'Sabrina Wu': 'execs', 'Rithic Goli': 'sg_medic'}\n",
      "{'Labanya Mukhopadhyay': 'sg_mep', 'Pooja Eega': 'seawarden'}\n",
      "{'Kanu Grover': 'fansure', 'Annie Dai': 'av'}\n",
      "{'Alvin Yu': 'seawarden', 'Atharva Mehendale': 'execs'}\n",
      "{'Louis Spencer': 'seawarden', 'Alleana Clark': 'execs'}\n",
      "{'Evelyn Lu': 'sg_mep', 'Jasmine Wang': 'openscout'}\n",
      "{'Jason Keung': 'fansure', 'Jihee Yoon': 'whipstitch'}\n",
      "{'Noor Hanafi': 'av', 'Taylor Lee': 'whipstitch'}\n",
      "{'Aditi Raja': 'av', 'Pranav Sukumar': 'fansure'}\n",
      "{'Rashmika Veturi': 'openscout', 'Jared Keating': 'acadev'}\n",
      "{'Grace Qiu': 'fansure', 'Olivia Qin': 'sg_mep'}\n",
      "{'Angeline Lee': 'acadev', 'Arnav Patel': 'execs'}\n",
      "{'Luke Liu': 'sg_mep', 'Kate Gwimm': 'fansure'}\n",
      "{'Sydnie Zanone': 'sg_mep', 'Spencer Jenkins': 'sg_medic'}\n",
      "{'Charlie D': 'execs', 'Cindy Yang': 'whipstitch'}\n",
      "{'Alina Trinh': 'openscout', 'Steven Chen': 'sg_medic'}\n",
      "{'Gayatri Babel': 'execs', 'Elton Chan': 'seawarden'}\n",
      "{'Anita Shen': 'openscout', 'Rick Zhang': 'execs'}\n",
      "{'Henry Cheong': 'whipstitch', 'Michelle Li': 'acadev'}\n",
      "{'Claudea Jennefer': 'seawarden', 'Erica Zhu': 'whipstitch'}\n",
      "{'Andi Halim': 'execs', 'Advait Marathe': 'seawarden'}\n",
      "{'Dhruv Krishnaswamy': 'openscout', 'Ingrid Chien': 'sg_medic'}\n",
      "{'Sunny Shen': 'openscout', 'Armine Nersisyan': 'acadev'}\n",
      "{'Nicole Park': 'seawarden', 'Vaibhav Agrawal': 'acadev'}\n",
      "{'Wendy Kim': 'acadev', 'Austin Jeong': 'acadev'}\n",
      "{'Marlon Fu': 'acadev', 'Pranati Modumudi': 'acadev'}\n"
     ]
    }
   ],
   "source": [
    "pairs = DSS_Dates()\n",
    "\n",
    "with open('dss_dates.csv', 'w', newline='') as file:\n",
    "    writer = csv.writer(file, quoting=csv.QUOTE_ALL,delimiter=';')\n",
    "    writer.writerows(pairs)"
   ]
  },
  {
   "cell_type": "code",
   "execution_count": null,
   "metadata": {},
   "outputs": [],
   "source": []
  },
  {
   "cell_type": "code",
   "execution_count": null,
   "metadata": {},
   "outputs": [],
   "source": []
  }
 ],
 "metadata": {
  "kernelspec": {
   "display_name": "Python 3 (ipykernel)",
   "language": "python",
   "name": "python3"
  },
  "language_info": {
   "codemirror_mode": {
    "name": "ipython",
    "version": 3
   },
   "file_extension": ".py",
   "mimetype": "text/x-python",
   "name": "python",
   "nbconvert_exporter": "python",
   "pygments_lexer": "ipython3",
   "version": "3.9.9"
  }
 },
 "nbformat": 4,
 "nbformat_minor": 4
}
